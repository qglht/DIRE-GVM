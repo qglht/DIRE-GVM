{
 "cells": [
  {
   "cell_type": "code",
   "execution_count": 5,
   "metadata": {},
   "outputs": [],
   "source": [
    "from typing import Tuple\n",
    "\n",
    "from torch.utils.data import DataLoader, random_split\n",
    "from torchvision.datasets import ImageFolder\n",
    "from torch import nn\n",
    "from torchvision.models import resnet50, ResNet50_Weights, ResNet\n",
    "from torchvision.transforms import PILToTensor\n",
    "\n",
    "\n",
    "def build_resnet50_pixel(pretrained: str = True) -> ResNet:\n",
    "    \"\"\"ResNet50 with custom classifier for testing normal DIRE\"\"\"\n",
    "    weights = ResNet50_Weights.DEFAULT\n",
    "    model = resnet50(weights=weights)\n",
    "    for param in model.parameters():\n",
    "        param.requires_grad = False\n",
    "    model.fc = nn.Sequential(nn.Linear(2048, 128), nn.ReLU(inplace=True), nn.Linear(128, 2), nn.Softmax(dim=1))\n",
    "    model.eval()\n",
    "    return model\n",
    "\n",
    "\n",
    "def preprocess_resnet50_pixel(img):\n",
    "    weights = ResNet50_Weights.DEFAULT\n",
    "    img = PILToTensor()(img)\n",
    "    batch = weights.transforms()(img)\n",
    "    return batch\n",
    "\n",
    "MODEL_DICT = {\n",
    "    #\"resnet50_latent\": build_resnet50_latent,\n",
    "    \"resnet50_pixel\": build_resnet50_pixel,\n",
    "    #\"mlp\": build_mlp,\n",
    "    #\"cnn\": build_cnn,\n",
    "}\n",
    "\n",
    "def get_dataloaders(root: str, batch_size: int, shuffle: bool = True) -> Tuple[DataLoader, DataLoader, DataLoader]:\n",
    "    dataset = ImageFolder(root, transform=preprocess_resnet50_pixel)\n",
    "    train_dataset, val_dataset, test_dataset = random_split(dataset, lengths=[0.8, 0.1, 0.1])\n",
    "    train_loader = DataLoader(train_dataset, batch_size=batch_size, shuffle=shuffle)\n",
    "    val_loader = DataLoader(val_dataset, batch_size=batch_size, shuffle=shuffle)\n",
    "    test_loader = DataLoader(test_dataset, batch_size=batch_size, shuffle=shuffle)\n",
    "\n",
    "    return train_loader, val_loader, test_loader"
   ]
  },
  {
   "cell_type": "code",
   "execution_count": 83,
   "metadata": {},
   "outputs": [],
   "source": [
    "import argparse\n",
    "from typing import Tuple\n",
    "\n",
    "import numpy as np\n",
    "from torchmetrics.functional.classification import accuracy\n",
    "from torchmetrics.functional import average_precision\n",
    "\n",
    "import torch\n",
    "import torch.nn as nn\n",
    "from torch.optim import Adam, SGD\n",
    "from torch.optim.lr_scheduler import ReduceLROnPlateau\n",
    "from torchvision.transforms.functional import hflip\n",
    "import lightning.pytorch as pl\n",
    "from lightning.pytorch.callbacks import EarlyStopping, ModelCheckpoint, LearningRateMonitor, TQDMProgressBar\n",
    "from lightning.pytorch import Trainer, seed_everything\n",
    "from lightning.pytorch.loggers import WandbLogger\n",
    "\n",
    "class Classifier(pl.LightningModule):\n",
    "    def __init__(self, model: str, optimizer: str, learning_rate: float) -> None:\n",
    "        super().__init__()\n",
    "        self.save_hyperparameters()\n",
    "        self.classifier = MODEL_DICT[model]()\n",
    "        self.loss = nn.CrossEntropyLoss()\n",
    "\n",
    "    def training_step(self, batch: Tuple[torch.Tensor, torch.Tensor], batch_idx: int) -> dict:\n",
    "        dire, label = batch\n",
    "        if np.random.rand() < 0.5:  # 50% chance for horizontal flip\n",
    "            dire = hflip(dire)\n",
    "        pred = self.classifier(dire)\n",
    "        loss = self.loss(pred, label)\n",
    "        acc = accuracy(pred.argmax(axis=1), label, task=\"binary\")\n",
    "        ap = average_precision(pred[:, 1], label, task=\"binary\")\n",
    "        metrics = {\"val_loss\": loss, \"val_acc\": acc, \"val_ap\": ap}\n",
    "        self.log_dict(metrics)\n",
    "\n",
    "        return loss\n",
    "\n",
    "    def validation_step(self, batch: Tuple[torch.Tensor, torch.Tensor], batch_idx: int):\n",
    "        dire, label = batch\n",
    "        pred = self.classifier(dire)\n",
    "        loss = self.loss(pred, label)\n",
    "        acc = accuracy(pred.argmax(axis=1), label, task=\"binary\")\n",
    "        ap = average_precision(pred[:, 1], label, task=\"binary\")\n",
    "        metrics = {\"val_loss\": loss, \"val_acc\": acc, \"val_ap\": ap}\n",
    "        self.log_dict(metrics)\n",
    "\n",
    "    def test_step(self, batch: Tuple[torch.Tensor, torch.Tensor], batch_idx: int):\n",
    "        dire, label = batch\n",
    "        pred = self.classifier(dire)\n",
    "        loss = self.loss(pred, label)\n",
    "        acc = accuracy(pred.argmax(axis=1), label, task=\"binary\")\n",
    "        ap = average_precision(pred[:, 1], label, task=\"binary\")\n",
    "        metrics = {\"val_loss\": loss, \"val_acc\": acc, \"val_ap\": ap}\n",
    "        self.log_dict(metrics)\n",
    "\n",
    "    def configure_optimizers(self) -> torch.optim.Optimizer:\n",
    "        optimizer = Adam if self.hparams.optimizer == \"Adam\" else SGD\n",
    "        if self.hparams.model == \"resnet50_pixel\":\n",
    "            optimizer = optimizer(self.classifier.fc.parameters(), lr=self.hparams.learning_rate)\n",
    "        else:\n",
    "            optimizer = optimizer(self.classifier.parameters(), lr=self.hparams.learning_rate)\n",
    "\n",
    "        lr_scheduler = ReduceLROnPlateau(optimizer, mode=\"max\", factor=0.1, patience=2)\n",
    "\n",
    "        return {\"optimizer\": optimizer, \"lr_scheduler\": lr_scheduler, \"monitor\": \"val_acc\"}\n",
    "\n",
    "\n",
    "def main(args: argparse.Namespace) -> None:\n",
    "    seed_everything(33914, workers=True)\n",
    "\n",
    "    # Setup Weights & Biases\n",
    "    wandb_logger = WandbLogger(project=\"Training\", entity=\"latent-dire\", config=vars(args))\n",
    "\n",
    "    # Load the data\n",
    "    train_loader, val_loader, test_loader = get_dataloaders(args.data_dir, args.batch_size, shuffle=True)\n",
    "\n",
    "    # Setup callbacks\n",
    "    early_stop = EarlyStopping(monitor=\"val_acc\", mode=\"max\", min_delta=0.0, patience=5, verbose=True)\n",
    "    checkpoint = ModelCheckpoint(save_top_k=2, monitor=\"val_acc\", mode=\"max\", dirpath=\"models/\")\n",
    "    lr_monitor = LearningRateMonitor(logging_interval=\"epoch\")\n",
    "    bar = TQDMProgressBar()\n",
    "\n",
    "    clf = Classifier(args.model, args.optimizer, args.learning_rate)\n",
    "    trainer = Trainer(\n",
    "        fast_dev_run=args.dev_run,  # uncomment to debug\n",
    "        accelerator=\"gpu\" if torch.cuda.is_available() else \"cpu\",\n",
    "        devices=\"auto\",  # use all available GPUs\n",
    "        min_epochs=1,\n",
    "        max_epochs=args.max_epochs,\n",
    "        callbacks=[bar, early_stop, checkpoint, lr_monitor],\n",
    "        # deterministic=True,  # slower, but reproducable: https://lightning.ai/docs/pytorch/stable/common/trainer.html#reproducibility\n",
    "        precision=\"16-mixed\",\n",
    "        default_root_dir=\"models/\",\n",
    "        logger=wandb_logger,\n",
    "    )\n",
    "    trainer.fit(clf, train_loader, val_loader)\n",
    "    trainer.test(clf, test_loader)\n"
   ]
  },
  {
   "cell_type": "code",
   "execution_count": 84,
   "metadata": {},
   "outputs": [],
   "source": [
    "parser = argparse.ArgumentParser()\n",
    "parser.add_argument(\"-d\", \"--dev_run\", action=\"store_true\", help=\"Whether to run a test run.\")\n",
    "parser.add_argument(\"--model\", type=str, default=\"resnet50_pixel\")\n",
    "parser.add_argument(\"--latent\", type=bool, default=False, help=\"Whether to use Latent DIRE\")\n",
    "parser.add_argument(\"--batch_size\", type=int, default=16)\n",
    "parser.add_argument(\"--max_epochs\", type=int, default=100)\n",
    "parser.add_argument(\"--use_early_stopping\", type=int, default=1, help=\"Whether to use early stopping.\")\n",
    "parser.add_argument(\"--optimizer\", type=str, default=\"Adam\", choices=[\"Adam\", \"SGD\"], help=\"Optimizer to use\")\n",
    "parser.add_argument(\"--learning_rate\", type=float, default=0.001)\n",
    "parser.add_argument(\"--data_dir\", type=str, default=\"../data/data_dev\")\n",
    "args = parser.parse_known_args()[0]"
   ]
  },
  {
   "cell_type": "code",
   "execution_count": 85,
   "metadata": {
    "scrolled": false
   },
   "outputs": [
    {
     "name": "stderr",
     "output_type": "stream",
     "text": [
      "[rank: 0] Global seed set to 33914\n",
      "Using 16bit Automatic Mixed Precision (AMP)\n",
      "GPU available: True (cuda), used: True\n",
      "TPU available: False, using: 0 TPU cores\n",
      "IPU available: False, using: 0 IPUs\n",
      "HPU available: False, using: 0 HPUs\n",
      "LOCAL_RANK: 0 - CUDA_VISIBLE_DEVICES: [0]\n",
      "\n",
      "  | Name       | Type             | Params\n",
      "------------------------------------------------\n",
      "0 | classifier | ResNet           | 23.8 M\n",
      "1 | loss       | CrossEntropyLoss | 0     \n",
      "------------------------------------------------\n",
      "262 K     Trainable params\n",
      "23.5 M    Non-trainable params\n",
      "23.8 M    Total params\n",
      "95.082    Total estimated model params size (MB)\n",
      "SLURM auto-requeueing enabled. Setting signal handlers.\n"
     ]
    },
    {
     "data": {
      "application/vnd.jupyter.widget-view+json": {
       "model_id": "",
       "version_major": 2,
       "version_minor": 0
      },
      "text/plain": [
       "Sanity Checking: 0it [00:00, ?it/s]"
      ]
     },
     "metadata": {},
     "output_type": "display_data"
    },
    {
     "name": "stderr",
     "output_type": "stream",
     "text": [
      "/cluster/home/hehlif/.local/lib/python3.10/site-packages/lightning/pytorch/trainer/connectors/data_connector.py:430: PossibleUserWarning: The dataloader, train_dataloader, does not have many workers which may be a bottleneck. Consider increasing the value of the `num_workers` argument` (try 128 which is the number of cpus on this machine) in the `DataLoader` init to improve performance.\n",
      "  rank_zero_warn(\n",
      "/cluster/home/hehlif/.local/lib/python3.10/site-packages/lightning/pytorch/loops/fit_loop.py:280: PossibleUserWarning: The number of training batches (15) is smaller than the logging interval Trainer(log_every_n_steps=50). Set a lower value for log_every_n_steps if you want to see logs for the training epoch.\n",
      "  rank_zero_warn(\n"
     ]
    },
    {
     "data": {
      "application/vnd.jupyter.widget-view+json": {
       "model_id": "e16d5777dafb48a49a7d25d084d2d4cc",
       "version_major": 2,
       "version_minor": 0
      },
      "text/plain": [
       "Training: 0it [00:00, ?it/s]"
      ]
     },
     "metadata": {},
     "output_type": "display_data"
    },
    {
     "data": {
      "application/vnd.jupyter.widget-view+json": {
       "model_id": "",
       "version_major": 2,
       "version_minor": 0
      },
      "text/plain": [
       "Validation: 0it [00:00, ?it/s]"
      ]
     },
     "metadata": {},
     "output_type": "display_data"
    },
    {
     "name": "stderr",
     "output_type": "stream",
     "text": [
      "Metric val_acc improved. New best score: 0.967\n"
     ]
    },
    {
     "data": {
      "application/vnd.jupyter.widget-view+json": {
       "model_id": "",
       "version_major": 2,
       "version_minor": 0
      },
      "text/plain": [
       "Validation: 0it [00:00, ?it/s]"
      ]
     },
     "metadata": {},
     "output_type": "display_data"
    },
    {
     "data": {
      "application/vnd.jupyter.widget-view+json": {
       "model_id": "",
       "version_major": 2,
       "version_minor": 0
      },
      "text/plain": [
       "Validation: 0it [00:00, ?it/s]"
      ]
     },
     "metadata": {},
     "output_type": "display_data"
    },
    {
     "data": {
      "application/vnd.jupyter.widget-view+json": {
       "model_id": "",
       "version_major": 2,
       "version_minor": 0
      },
      "text/plain": [
       "Validation: 0it [00:00, ?it/s]"
      ]
     },
     "metadata": {},
     "output_type": "display_data"
    },
    {
     "data": {
      "application/vnd.jupyter.widget-view+json": {
       "model_id": "",
       "version_major": 2,
       "version_minor": 0
      },
      "text/plain": [
       "Validation: 0it [00:00, ?it/s]"
      ]
     },
     "metadata": {},
     "output_type": "display_data"
    },
    {
     "data": {
      "application/vnd.jupyter.widget-view+json": {
       "model_id": "",
       "version_major": 2,
       "version_minor": 0
      },
      "text/plain": [
       "Validation: 0it [00:00, ?it/s]"
      ]
     },
     "metadata": {},
     "output_type": "display_data"
    },
    {
     "name": "stderr",
     "output_type": "stream",
     "text": [
      "Monitored metric val_acc did not improve in the last 5 records. Best score: 0.967. Signaling Trainer to stop.\n",
      "LOCAL_RANK: 0 - CUDA_VISIBLE_DEVICES: [0]\n",
      "SLURM auto-requeueing enabled. Setting signal handlers.\n",
      "/cluster/home/hehlif/.local/lib/python3.10/site-packages/lightning/pytorch/trainer/connectors/data_connector.py:478: PossibleUserWarning: Your `test_dataloader`'s sampler has shuffling enabled, it is strongly recommended that you turn shuffling off for val/test dataloaders.\n",
      "  rank_zero_warn(\n",
      "/cluster/home/hehlif/.local/lib/python3.10/site-packages/lightning/pytorch/trainer/connectors/data_connector.py:430: PossibleUserWarning: The dataloader, test_dataloader, does not have many workers which may be a bottleneck. Consider increasing the value of the `num_workers` argument` (try 128 which is the number of cpus on this machine) in the `DataLoader` init to improve performance.\n",
      "  rank_zero_warn(\n"
     ]
    },
    {
     "data": {
      "application/vnd.jupyter.widget-view+json": {
       "model_id": "fcfe49c44ee9452cb8e9467b4319ec7a",
       "version_major": 2,
       "version_minor": 0
      },
      "text/plain": [
       "Testing: 0it [00:00, ?it/s]"
      ]
     },
     "metadata": {},
     "output_type": "display_data"
    },
    {
     "data": {
      "text/html": [
       "<pre style=\"white-space:pre;overflow-x:auto;line-height:normal;font-family:Menlo,'DejaVu Sans Mono',consolas,'Courier New',monospace\">┏━━━━━━━━━━━━━━━━━━━━━━━━━━━┳━━━━━━━━━━━━━━━━━━━━━━━━━━━┓\n",
       "┃<span style=\"font-weight: bold\">        Test metric        </span>┃<span style=\"font-weight: bold\">       DataLoader 0        </span>┃\n",
       "┡━━━━━━━━━━━━━━━━━━━━━━━━━━━╇━━━━━━━━━━━━━━━━━━━━━━━━━━━┩\n",
       "│<span style=\"color: #008080; text-decoration-color: #008080\">          val_acc          </span>│<span style=\"color: #800080; text-decoration-color: #800080\">            1.0            </span>│\n",
       "│<span style=\"color: #008080; text-decoration-color: #008080\">          val_ap           </span>│<span style=\"color: #800080; text-decoration-color: #800080\">            1.0            </span>│\n",
       "│<span style=\"color: #008080; text-decoration-color: #008080\">         val_loss          </span>│<span style=\"color: #800080; text-decoration-color: #800080\">    0.34242719411849976    </span>│\n",
       "└───────────────────────────┴───────────────────────────┘\n",
       "</pre>\n"
      ],
      "text/plain": [
       "┏━━━━━━━━━━━━━━━━━━━━━━━━━━━┳━━━━━━━━━━━━━━━━━━━━━━━━━━━┓\n",
       "┃\u001b[1m \u001b[0m\u001b[1m       Test metric       \u001b[0m\u001b[1m \u001b[0m┃\u001b[1m \u001b[0m\u001b[1m      DataLoader 0       \u001b[0m\u001b[1m \u001b[0m┃\n",
       "┡━━━━━━━━━━━━━━━━━━━━━━━━━━━╇━━━━━━━━━━━━━━━━━━━━━━━━━━━┩\n",
       "│\u001b[36m \u001b[0m\u001b[36m         val_acc         \u001b[0m\u001b[36m \u001b[0m│\u001b[35m \u001b[0m\u001b[35m           1.0           \u001b[0m\u001b[35m \u001b[0m│\n",
       "│\u001b[36m \u001b[0m\u001b[36m         val_ap          \u001b[0m\u001b[36m \u001b[0m│\u001b[35m \u001b[0m\u001b[35m           1.0           \u001b[0m\u001b[35m \u001b[0m│\n",
       "│\u001b[36m \u001b[0m\u001b[36m        val_loss         \u001b[0m\u001b[36m \u001b[0m│\u001b[35m \u001b[0m\u001b[35m   0.34242719411849976   \u001b[0m\u001b[35m \u001b[0m│\n",
       "└───────────────────────────┴───────────────────────────┘\n"
      ]
     },
     "metadata": {},
     "output_type": "display_data"
    }
   ],
   "source": [
    "main(args)"
   ]
  }
 ],
 "metadata": {
  "kernelspec": {
   "display_name": "Python 3 (ipykernel)",
   "language": "python",
   "name": "python3"
  },
  "language_info": {
   "codemirror_mode": {
    "name": "ipython",
    "version": 3
   },
   "file_extension": ".py",
   "mimetype": "text/x-python",
   "name": "python",
   "nbconvert_exporter": "python",
   "pygments_lexer": "ipython3",
   "version": "3.10.4"
  }
 },
 "nbformat": 4,
 "nbformat_minor": 4
}
