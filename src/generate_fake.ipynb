{
 "cells": [
  {
   "cell_type": "code",
   "execution_count": null,
   "metadata": {},
   "outputs": [],
   "source": [
    "from diffusers import StableDiffusionPipeline\n",
    "\n",
    "batch_size = 10\n",
    "\n",
    "# read file src/LOC_synset_mapping.txt that maps ILSVRC2012_synset to WordNet synset\n",
    "\n",
    "mapping_caption_wordnet = {}\n",
    "with open('src/LOC_synset_mapping.txt') as f:\n",
    "    for line in f:\n",
    "        line = line.strip().split()\n",
    "        mapping_caption_wordnet[line[0]] = line[1]\n",
    "\n",
    "# get all possible prompts and save them in a list\n",
    "\n",
    "prompts = mapping_caption_wordnet.values()\n",
    "\n",
    "# generate fake images from these prompts\n",
    "\n",
    "images_fake = []\n",
    "pipe = StableDiffusionPipeline.from_pretrained(\"CompVis/stable-diffusion-v1-4\") # or other model\n",
    "for prompt in prompts[:1]:\n",
    "    images_fake = images_fake + pipe([prompt] * batch_size).images"
   ]
  }
 ],
 "metadata": {
  "language_info": {
   "name": "python"
  },
  "orig_nbformat": 4
 },
 "nbformat": 4,
 "nbformat_minor": 2
}
